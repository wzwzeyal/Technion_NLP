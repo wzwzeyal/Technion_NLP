{
 "cells": [
  {
   "cell_type": "markdown",
   "id": "c6867fc7",
   "metadata": {},
   "source": [
    "# NER DataSet Exploration- final project"
   ]
  },
  {
   "cell_type": "code",
   "execution_count": null,
   "id": "1c0a887f",
   "metadata": {},
   "outputs": [],
   "source": [
    "import pandas         as pd\n",
    "import numpy          as np\n",
    "import plotly.express as px\n",
    "\n",
    "import os\n",
    "import warnings\n",
    "warnings.filterwarnings('ignore')"
   ]
  },
  {
   "cell_type": "markdown",
   "id": "f4dbaca1",
   "metadata": {},
   "source": [
    "### import dataset"
   ]
  },
  {
   "cell_type": "code",
   "execution_count": null,
   "id": "027119d8",
   "metadata": {},
   "outputs": [],
   "source": [
    "dfData = pd.read_pickle('data\\dfArData.pkl').reset_index(drop=True)\n",
    "dfData.shape"
   ]
  },
  {
   "cell_type": "markdown",
   "id": "d63074be",
   "metadata": {},
   "source": [
    "### Example of two sentences"
   ]
  },
  {
   "cell_type": "code",
   "execution_count": null,
   "id": "31da2faa",
   "metadata": {},
   "outputs": [],
   "source": [
    "dfData[80:90]"
   ]
  },
  {
   "cell_type": "markdown",
   "id": "46ca2d11",
   "metadata": {},
   "source": [
    "### Sum of Sentences"
   ]
  },
  {
   "cell_type": "code",
   "execution_count": null,
   "id": "83f21722",
   "metadata": {},
   "outputs": [],
   "source": [
    "dfData.senIdx.nunique()"
   ]
  },
  {
   "cell_type": "markdown",
   "id": "fdcd5e52",
   "metadata": {},
   "source": [
    "### NER lables dist."
   ]
  },
  {
   "cell_type": "code",
   "execution_count": null,
   "id": "afd7c1f1",
   "metadata": {},
   "outputs": [],
   "source": [
    "df           = dfData.copy()\n",
    "df['label']  = df.label.apply(lambda ner: 'Entity' if ner != 'O' else 'NotEntity')\n",
    "df['senIdx'] = 1\n",
    "fig          = px.pie(df, values='senIdx', names='label')\n",
    "fig.show()"
   ]
  },
  {
   "cell_type": "markdown",
   "id": "348a9ebc",
   "metadata": {},
   "source": [
    "### NER Label types dist."
   ]
  },
  {
   "cell_type": "code",
   "execution_count": null,
   "id": "2f8d646e",
   "metadata": {},
   "outputs": [],
   "source": [
    "df           = dfData.copy()\n",
    "df           = df[df.label != 'O']\n",
    "df['label']  = df.label.apply(lambda ner: ner[ner.find('-')+1:] if '|' not in ner else 'mulEntity')\n",
    "df['senIdx'] = 1\n",
    "fig          = px.pie(df, values='senIdx', names='label')\n",
    "fig.show()"
   ]
  },
  {
   "cell_type": "markdown",
   "id": "2de8e41e",
   "metadata": {},
   "source": [
    "### NER Person types dist."
   ]
  },
  {
   "cell_type": "code",
   "execution_count": null,
   "id": "ae98c0ec",
   "metadata": {},
   "outputs": [],
   "source": [
    "df           = dfData.copy()\n",
    "df['label']  = df.label.apply(lambda ner: ner if '|' not in ner else 'mulEntity')\n",
    "df['label']  = df.label.apply(lambda ner: ner if 'PER' in ner else 'notPerson')\n",
    "df           = df[df.label != 'mulEntity']\n",
    "df           = df[df.label != 'notPerson']\n",
    "df['senIdx'] = 1\n",
    "fig          = px.pie(df, values='senIdx', names='label')\n",
    "fig.show()"
   ]
  },
  {
   "cell_type": "markdown",
   "id": "2ecf0f90",
   "metadata": {},
   "source": [
    "### Sentence length Histogram"
   ]
  },
  {
   "cell_type": "code",
   "execution_count": null,
   "id": "ef1df45f",
   "metadata": {},
   "outputs": [],
   "source": [
    "df  = pd.DataFrame(dfData.senIdx.value_counts())\n",
    "fig = px.histogram(df, x=\"senIdx\")\n",
    "fig.show()"
   ]
  },
  {
   "cell_type": "code",
   "execution_count": null,
   "id": "5795e609",
   "metadata": {},
   "outputs": [],
   "source": []
  }
 ],
 "metadata": {
  "kernelspec": {
   "display_name": "Python 3",
   "language": "python",
   "name": "python3"
  },
  "language_info": {
   "codemirror_mode": {
    "name": "ipython",
    "version": 3
   },
   "file_extension": ".py",
   "mimetype": "text/x-python",
   "name": "python",
   "nbconvert_exporter": "python",
   "pygments_lexer": "ipython3",
   "version": "3.8.8"
  }
 },
 "nbformat": 4,
 "nbformat_minor": 5
}
